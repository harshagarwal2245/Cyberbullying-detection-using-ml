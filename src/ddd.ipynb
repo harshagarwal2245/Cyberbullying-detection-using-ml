{
 "cells": [
  {
   "cell_type": "code",
   "execution_count": 3,
   "id": "97a0c770",
   "metadata": {},
   "outputs": [],
   "source": [
    "import sentencepiece as spm"
   ]
  },
  {
   "cell_type": "code",
   "execution_count": null,
   "id": "526d92e8",
   "metadata": {},
   "outputs": [],
   "source": []
  },
  {
   "cell_type": "code",
   "execution_count": 7,
   "id": "71ecf17b",
   "metadata": {},
   "outputs": [
    {
     "name": "stdout",
     "output_type": "stream",
     "text": [
      "*** BPE ***\n",
      "[220, 202, 375, 41, 37, 73, 143, 66, 353, 4, 24, 7, 196, 172, 383, 268, 374, 4, 19, 380, 449, 421, 23, 4, 385, 378, 17, 382, 384]\n",
      "['▁P', 'ak', 'i', 'st', 'an', '▁is', '▁not', '▁e', 'ven', '▁a', '▁c', 'ou', 'nt', 'ry', '.', '▁It', 's', '▁a', '▁f', 'u', '$', '&', 'ing', '▁a', 'c', 'r', 'on', 'y', 'm']\n"
     ]
    }
   ],
   "source": [
    "spm.SentencePieceTrainer.train('--input=list.txt --model_prefix=example_bpe --vocab_size=450 --model_type=bpe')\n",
    "sp_bpe = spm.SentencePieceProcessor()\n",
    "sp_bpe.load('example_bpe.model')\n",
    "s0 = 'Pakistan is not even a country. Its a fu$&ing acronym'\n",
    "print('*** BPE ***')\n",
    "print(sp_bpe.encode_as_ids(s0))\n",
    "print(sp_bpe.encode_as_pieces(s0))"
   ]
  },
  {
   "cell_type": "code",
   "execution_count": 8,
   "id": "6f9b507c",
   "metadata": {},
   "outputs": [
    {
     "name": "stdout",
     "output_type": "stream",
     "text": [
      "Beginning of sentence id: 1\n",
      "Pad id: -1\n",
      "End of sentence id: 2\n",
      "Unknown id: 0\n",
      "Vocab size: 450\n"
     ]
    }
   ],
   "source": [
    "print(f'Beginning of sentence id: {sp_bpe.bos_id()}')\n",
    "print(f'Pad id: {sp_bpe.pad_id()}')\n",
    "print(f'End of sentence id: {sp_bpe.eos_id()}')\n",
    "print(f'Unknown id: {sp_bpe.unk_id()}')\n",
    "print(f'Vocab size: {sp_bpe.vocab_size()}')"
   ]
  },
  {
   "cell_type": "code",
   "execution_count": 10,
   "id": "72cbfebc",
   "metadata": {},
   "outputs": [
    {
     "name": "stdout",
     "output_type": "stream",
     "text": [
      "\n",
      "Id\tSentP\tControl?\n",
      "------------------------\n",
      "0\t<unk>\tFalse\n",
      "1\t<s>\tTrue\n",
      "2\t</s>\tTrue\n",
      "3\t▁t\tFalse\n",
      "4\t▁a\tFalse\n",
      "5\tha\tFalse\n",
      "6\tin\tFalse\n",
      "7\tou\tFalse\n",
      "8\the\tFalse\n",
      "9\t▁s\tFalse\n"
     ]
    }
   ],
   "source": [
    "print('\\nId\\tSentP\\tControl?')\n",
    "print('------------------------')\n",
    "# <unk>, <s>, </s> are defined by default. Their ids are (0, 1, 2)\n",
    "# <s> and </s> are defined as 'control' symbol.\n",
    "for uid in range(10):\n",
    "    print(uid, sp_bpe.id_to_piece(uid), sp_bpe.is_control(uid), sep='\\t')\n",
    "    \n",
    "# for uid in range(sp.vocab_size()-10,sp.vocab_size()):\n",
    "#     print(uid, sp.id_to_piece(uid), sp.is_control(uid), sep='\\t')"
   ]
  },
  {
   "cell_type": "code",
   "execution_count": null,
   "id": "4cf3e1ed",
   "metadata": {},
   "outputs": [],
   "source": []
  }
 ],
 "metadata": {
  "kernelspec": {
   "display_name": "Python 3",
   "language": "python",
   "name": "python3"
  },
  "language_info": {
   "codemirror_mode": {
    "name": "ipython",
    "version": 3
   },
   "file_extension": ".py",
   "mimetype": "text/x-python",
   "name": "python",
   "nbconvert_exporter": "python",
   "pygments_lexer": "ipython3",
   "version": "3.8.8"
  }
 },
 "nbformat": 4,
 "nbformat_minor": 5
}
